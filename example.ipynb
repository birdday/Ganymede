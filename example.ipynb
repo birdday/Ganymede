{
 "cells": [
  {
   "cell_type": "code",
   "execution_count": null,
   "metadata": {},
   "outputs": [],
   "source": [
    "from lcparser.lcparser import parse_lc_textfile, plot_raw_vs_processed_data, plot_peak_data\n",
    "\n",
    "# Toggle for interactive plot.\n",
    "# %matplotlib widget"
   ]
  },
  {
   "cell_type": "code",
   "execution_count": null,
   "metadata": {},
   "outputs": [],
   "source": [
    "# Parse data file into object\n",
    "obj = parse_lc_textfile(\"data/IgG Vtag 1_ACQUITY FLR ChA.txt\")"
   ]
  },
  {
   "cell_type": "code",
   "execution_count": null,
   "metadata": {},
   "outputs": [],
   "source": [
    "# Print Metadata\n",
    "print(f\"Metadata Keys: {obj.metadata.keys()}\")\n",
    "obj.metadata"
   ]
  },
  {
   "cell_type": "code",
   "execution_count": null,
   "metadata": {},
   "outputs": [],
   "source": [
    "# Print Raw Data and Units\n",
    "print(obj.metadata.get(\"Chromatogram Data Information\").get(\"Units\"))\n",
    "obj.data"
   ]
  },
  {
   "cell_type": "code",
   "execution_count": null,
   "metadata": {},
   "outputs": [],
   "source": [
    "# Smooth and Baseline Correct the raw ydata.\n",
    "obj.process_raw_chromatogram(sigma=2)\n",
    "obj.ydata_processed"
   ]
  },
  {
   "cell_type": "code",
   "execution_count": null,
   "metadata": {},
   "outputs": [],
   "source": [
    "# Detect the peaks in the processed data.\n",
    "obj.detect_peaks(height=0.1, distance=5)\n",
    "obj.peaks"
   ]
  },
  {
   "cell_type": "code",
   "execution_count": null,
   "metadata": {},
   "outputs": [],
   "source": [
    "# Plot 1\n",
    "plot_raw_vs_processed_data(obj)"
   ]
  },
  {
   "cell_type": "code",
   "execution_count": null,
   "metadata": {},
   "outputs": [],
   "source": [
    "# Plot 2a\n",
    "plot_peak_data(obj)"
   ]
  },
  {
   "cell_type": "code",
   "execution_count": null,
   "metadata": {},
   "outputs": [],
   "source": [
    "# Plot 2b\n",
    "plot_peak_data(obj, peak_lines=False, peak_areas=True)"
   ]
  },
  {
   "cell_type": "code",
   "execution_count": null,
   "metadata": {},
   "outputs": [],
   "source": [
    "# Integrate the Peaks (time x absorbance value)\n",
    "obj.integrate_peaks()\n",
    "obj.peaks[\"peak_areas\"]"
   ]
  },
  {
   "cell_type": "code",
   "execution_count": null,
   "metadata": {},
   "outputs": [],
   "source": [
    "# Calculate Elution Volumes (µL)\n",
    "obj.calculate_elution_volumes()\n",
    "obj.peaks[\"elution_volume\"]"
   ]
  }
 ],
 "metadata": {
  "kernelspec": {
   "display_name": "ganymede",
   "language": "python",
   "name": "python3"
  },
  "language_info": {
   "codemirror_mode": {
    "name": "ipython",
    "version": 3
   },
   "file_extension": ".py",
   "mimetype": "text/x-python",
   "name": "python",
   "nbconvert_exporter": "python",
   "pygments_lexer": "ipython3",
   "version": "3.9.4"
  }
 },
 "nbformat": 4,
 "nbformat_minor": 2
}
